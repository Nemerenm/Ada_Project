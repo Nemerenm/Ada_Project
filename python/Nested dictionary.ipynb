{
 "cells": [
  {
   "cell_type": "code",
   "execution_count": 10,
   "metadata": {},
   "outputs": [
    {
     "name": "stdout",
     "output_type": "stream",
     "text": [
      "{'Data': {'names': ['Nedu Japa', 'Amaka Dissapoint', 'Pretty Cynthia'], 'scores': [91, 86, 25]}, 'Backend': {'names': ['John Doe', 'John Bellcat'], 'scores': [56, 69]}, 'Frontend': {'names': ['Ada Ada', 'Phyno Ezege', 'Dog Catcher', 'Bitrus Beetroot', 'Beja Cat', 'Doja Cat'], 'scores': [90, 80, 67, 25, 79, 62]}}\n"
     ]
    }
   ],
   "source": [
    "Data_Students = [\"Nedu Japa\",\"Amaka Dissapoint\",\"Pretty Cynthia\"]\n",
    "Backend_Students = [\"John Doe\",\"John Bellcat\"]\n",
    "Frontend_Students = [\"Ada Ada\",\"Phyno Ezege\",\"Dog Catcher\",\"Bitrus Beetroot\",\"Beja Cat\",\"Doja Cat\"] \n",
    "\n",
    "Data_scores = [91,86,25]\n",
    "Backend_scores = [56,69]\n",
    "Frontend_scores = [90,80,67,25,79,62]\n",
    "\n",
    "Students = {\n",
    "    \"Data\":{\n",
    "        \"names\": Data_Students,\n",
    "        \"scores\": []\n",
    "    },\n",
    "    \"Backend\":{\n",
    "        \"names\": Backend_Students,\n",
    "        \"scores\": []\n",
    "    },\n",
    "    \"Frontend\":{\n",
    "        \"names\": Frontend_Students,\n",
    "        \"scores\": []\n",
    "    }\n",
    "}\n",
    "\n",
    "for track, track_Students, track_scores in [(\"Frontend\", Frontend_Students, Frontend_scores), (\"Backend\", Backend_Students, Backend_scores), (\"Data\", Data_Students, Data_scores)]:\n",
    "    for name in Students[track][\"names\"]:\n",
    "        index = track_Students.index(name)\n",
    "        score = track_scores[index]\n",
    "        Students[track][\"scores\"].append(score)\n",
    "\n",
    "# Print the updated students dictionary\n",
    "print(Students)\n",
    "\n",
    "\n",
    "\n"
   ]
  }
 ],
 "metadata": {
  "kernelspec": {
   "display_name": "base",
   "language": "python",
   "name": "python3"
  },
  "language_info": {
   "codemirror_mode": {
    "name": "ipython",
    "version": 3
   },
   "file_extension": ".py",
   "mimetype": "text/x-python",
   "name": "python",
   "nbconvert_exporter": "python",
   "pygments_lexer": "ipython3",
   "version": "3.9.13"
  },
  "orig_nbformat": 4,
  "vscode": {
   "interpreter": {
    "hash": "d886b281cac202c98fe290b79c9c82a98e360185ca5cbe185c17ef8f4ea0a80d"
   }
  }
 },
 "nbformat": 4,
 "nbformat_minor": 2
}
