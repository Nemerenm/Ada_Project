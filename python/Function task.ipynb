{
 "cells": [
  {
   "attachments": {},
   "cell_type": "markdown",
   "metadata": {},
   "source": [
    "    A FUNCTION TASK"
   ]
  },
  {
   "cell_type": "code",
   "execution_count": 6,
   "metadata": {},
   "outputs": [],
   "source": [
    "def love():\n",
    "    total_score = 0\n",
    "\n",
    "    singleness = input(\"Enter your singleness score (between 1 and 10): \")\n",
    "    if not singleness.isdigit() or int(singleness) < 1 or int(singleness) > 10:\n",
    "        print(\"Kindly input a number between 1 and 10\")\n",
    "        return\n",
    "    singleness = int(singleness)\n",
    "    if singleness != 1:\n",
    "        print(\"Kindly input the number 1 here\")\n",
    "        return\n",
    "    \n",
    "    maturity = input(\"Enter your maturity score (between 1 and 10): \")\n",
    "    if not maturity.isdigit() or int(maturity) < 1 or int(maturity) > 10:\n",
    "        print(\"Kindly input a number between 1 and 10\")\n",
    "        return\n",
    "    maturity = int(maturity)\n",
    "    total_score += maturity\n",
    "    \n",
    "    intelligence = input(\"Enter your intelligence score (between 1 and 10): \")\n",
    "    if not intelligence.isdigit() or int(intelligence) < 1 or int(intelligence) > 10:\n",
    "        print(\"Kindly input a number between 1 and 10\")\n",
    "        return\n",
    "    intelligence = int(intelligence)\n",
    "    total_score += intelligence\n",
    "    \n",
    "    trust = input(\"Enter your trust score (between 1 and 10): \")\n",
    "    if not trust.isdigit() or int(trust) < 1 or int(trust) > 10:\n",
    "        print(\"Kindly input a number between 1 and 10\")\n",
    "        return\n",
    "    trust = int(trust)\n",
    "    total_score += trust\n",
    "    \n",
    "    love = input(\"Enter your love score (between 1 and 10): \")\n",
    "    if not love.isdigit() or int(love) < 1 or int(love) > 10:\n",
    "        print(\"Kindly input a number between 1 and 10\")\n",
    "        return\n",
    "    love = int(love)\n",
    "    total_score += love\n",
    "    \n",
    "    if total_score >= 21:\n",
    "        print(\"Congrats! You are closer to your desired romantic relationship\")\n",
    "    else:\n",
    "        print(\"Sorry, you need a total score of 21 for Romantic Relationship eligibility\")"
   ]
  }
 ],
 "metadata": {
  "kernelspec": {
   "display_name": "base",
   "language": "python",
   "name": "python3"
  },
  "language_info": {
   "codemirror_mode": {
    "name": "ipython",
    "version": 3
   },
   "file_extension": ".py",
   "mimetype": "text/x-python",
   "name": "python",
   "nbconvert_exporter": "python",
   "pygments_lexer": "ipython3",
   "version": "3.9.13"
  },
  "orig_nbformat": 4,
  "vscode": {
   "interpreter": {
    "hash": "d886b281cac202c98fe290b79c9c82a98e360185ca5cbe185c17ef8f4ea0a80d"
   }
  }
 },
 "nbformat": 4,
 "nbformat_minor": 2
}
